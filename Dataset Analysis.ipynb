{
 "cells": [
  {
   "cell_type": "code",
   "execution_count": null,
   "id": "fbceb95f",
   "metadata": {},
   "outputs": [],
   "source": [
    "import pandas as pd\n",
    "import numpy as np\n",
    "import datetime\n",
    "import matplotlib.pyplot as plt\n",
    "import seaborn as sns\n",
    "\n",
    "from Bio import SeqIO\n",
    "from Bio import pairwise2"
   ]
  },
  {
   "cell_type": "code",
   "execution_count": null,
   "id": "35014d03",
   "metadata": {},
   "outputs": [],
   "source": [
    "def removeoutlier_col(df,cols):\n",
    "    Q1 = df[cols].quantile(0.25)\n",
    "    Q3 = df[cols].quantile(0.75)\n",
    "    IQR = Q3 - Q1\n",
    "    df_out = df[~((df[[cols]] < (Q1 - 1.5 * IQR)) |(df[[cols]] > (Q3 + 1.5 * IQR))).any(axis=1)]\n",
    "    return df_out"
   ]
  },
  {
   "cell_type": "code",
   "execution_count": null,
   "id": "395c2b2f",
   "metadata": {},
   "outputs": [],
   "source": [
    "enzyme = 'betaGlucosidasewithMutants'\n",
    "\n",
    "df_raw = pd.read_excel('betaGlucosidasewithMutantsOptimumTemperature.xlsx')\n",
    "\n",
    "output = 'pNP-Glc kcat/Km (1/smM)'\n",
    "aln = enzyme + '.aln'\n",
    "\n",
    "x = datetime.datetime.now()\n",
    "date = str(x.year)+str(x.month)+str(x.day)\n",
    "\n",
    "df_raw['Log'+output] = np.log10(df_raw[output])\n",
    "\n",
    "df = removeoutlier_col(df_raw,'Log' + output).reset_index()"
   ]
  },
  {
   "cell_type": "code",
   "execution_count": null,
   "id": "23c10a7b-4f3c-4434-801f-210b7c28a95c",
   "metadata": {},
   "outputs": [],
   "source": [
    "df_unique = df.drop_duplicates(subset=['Sequence'])"
   ]
  },
  {
   "cell_type": "code",
   "execution_count": null,
   "id": "287d7c3d",
   "metadata": {},
   "outputs": [],
   "source": [
    "no_entries = len(df)\n",
    "no_sequences = len(df_unique)\n",
    "\n",
    "no_wild_type = len(df[df['wild type or mutant']=='wild'])\n",
    "no_unique_wild_type = len(df_unique[df_unique['wild type or mutant']=='wild'])\n",
    "no_mutant_type = len(df[df['wild type or mutant']=='mutant'])\n",
    "no_unique_mutant_type = len(df_unique[df_unique['wild type or mutant']=='mutant'])\n",
    "\n",
    "print('Total number of entries ' + str(no_entries))\n",
    "print('Total number of unique sequences is ' + str(no_sequences))\n",
    "print('Number of wild types in the dataset is '+ str(no_wild_type))\n",
    "print('Number of unique wild types in the dataset is '+ str(no_unique_wild_type))\n",
    "print('Number of mutants in the dataset is ' + str(no_mutant_type))\n",
    "print('Number of unique mutants in the dataset is ' + str(no_unique_mutant_type))\n"
   ]
  },
  {
   "cell_type": "code",
   "execution_count": null,
   "id": "b600e968-5ca2-4912-bdcd-d502f1f69e45",
   "metadata": {},
   "outputs": [],
   "source": [
    "kingdom_names = df['Kingdom'].unique()\n",
    "kingdom_names"
   ]
  },
  {
   "cell_type": "code",
   "execution_count": null,
   "id": "21e87ea8",
   "metadata": {},
   "outputs": [],
   "source": [
    "sequence = df_unique['Sequence']\n",
    "sequence_length = [len(a) for a in sequence]\n",
    "average_sequence_length = np.mean(sequence_length)\n",
    "std_sequence_length = np.std(sequence_length)\n",
    "\n",
    "print('The average unique sequence length is '+ str(average_sequence_length))\n",
    "print('The standard deviation for the sequence length is '+ str(std_sequence_length))"
   ]
  },
  {
   "cell_type": "code",
   "execution_count": null,
   "id": "055b088e-a213-43f5-ba7c-8ac5b75b540b",
   "metadata": {},
   "outputs": [],
   "source": [
    "#Histogram for kcat/Km\n",
    "sns.set(font_scale=2.5)\n",
    "\n",
    "from matplotlib import ticker as mticker\n",
    "sns.set_style(\"ticks\")\n",
    "plt.rcParams['font.family'] = 'Arial'\n",
    "plt.rcParams[\"font.weight\"] = \"bold\"\n",
    "plt.rcParams[\"axes.labelweight\"] = \"bold\"\n",
    "\n",
    "plt.rcParams['axes.linewidth'] =  5\n",
    "plt.rcParams['ytick.major.width'] =  4\n",
    "plt.rcParams['ytick.minor.width'] =  2\n",
    "plt.rcParams['xtick.major.width'] =  4\n",
    "\n",
    "fig, ax = plt.subplots(figsize=(10, 10))\n",
    "\n",
    "sns.histplot(np.log10(df['pNP-Glc kcat/Km (1/smM)']))\n",
    "\n",
    "ax.xaxis.set_major_formatter(mticker.StrMethodFormatter(\"$10^{{{x:.0f}}}$\"))\n",
    "xmin, xmax = ax.get_xlim()\n",
    "tick_range = np.arange(np.floor(xmin), xmax)\n",
    "ax.xaxis.set_ticks([np.log10(x) for p in tick_range for x in np.linspace(10 ** p, 10 ** (p + 1), 10)], minor=True)\n",
    "\n",
    "plt.xlabel(\"$k$$_{\\\\rm cat}$ / $K$$_{\\\\rm m}$ (mM$^{-1}$s$^{-1}$)\")\n",
    "\n",
    "plt.savefig(date + enzyme + ' Activity Histogram.tiff', bbox_inches = 'tight')"
   ]
  },
  {
   "cell_type": "code",
   "execution_count": null,
   "id": "12b91648-d1c5-43a9-a7aa-4ae4c88dd46c",
   "metadata": {},
   "outputs": [],
   "source": [
    "#Histogram for assay temperature\n",
    "sns.set(font_scale=2.5)\n",
    "\n",
    "from matplotlib import ticker as mticker\n",
    "sns.set_style(\"ticks\")\n",
    "plt.rcParams['font.family'] = 'Arial'\n",
    "plt.rcParams[\"font.weight\"] = \"bold\"\n",
    "plt.rcParams[\"axes.labelweight\"] = \"bold\"\n",
    "\n",
    "plt.rcParams['axes.linewidth'] =  5\n",
    "plt.rcParams['ytick.major.width'] =  4\n",
    "plt.rcParams['ytick.minor.width'] =  2\n",
    "plt.rcParams['xtick.major.width'] =  4\n",
    "\n",
    "fig, ax = plt.subplots(figsize=(10, 10))\n",
    "\n",
    "sns.histplot(df['Reaction Temperature'])\n",
    "\n",
    "plt.xlabel(\"Assay Temperature (\\u00B0C)\")\n",
    "\n",
    "plt.savefig(date + enzyme + ' Temperature Histogram.tiff', bbox_inches = 'tight')"
   ]
  },
  {
   "cell_type": "code",
   "execution_count": null,
   "id": "f65b8b43",
   "metadata": {},
   "outputs": [],
   "source": [
    "def calculate_sequence_identity(seq1, seq2):\n",
    "    # Perform a global pairwise alignment\n",
    "    alignments = pairwise2.align.globalxx(seq1, seq2)\n",
    "    # Get the best alignment (highest score)\n",
    "    best_alignment = alignments[0]\n",
    "    aligned_seq1, aligned_seq2, score, start, end = best_alignment\n",
    "    \n",
    "    # Calculate identity\n",
    "    matches = sum(res1 == res2 for res1, res2 in zip(aligned_seq1, aligned_seq2))\n",
    "    identity = matches / len(aligned_seq1)\n",
    "    \n",
    "    return identity, score\n",
    "\n",
    "def calculate_pairwise_identities(sequences):\n",
    "    num_sequences = len(sequences)\n",
    "    identities = []\n",
    "    scores = []\n",
    "    \n",
    "    # Calculate pairwise identities\n",
    "    for i in range(num_sequences):\n",
    "        for j in range(i + 1, num_sequences):\n",
    "            identity, score = calculate_sequence_identity(sequences[i], sequences[j])\n",
    "            identities.append(identity)\n",
    "            scores.append(score)\n",
    "    # Calculate average and standard deviation\n",
    "    average_identity = np.mean(identities)\n",
    "    std_deviation = np.std(identities)\n",
    "    \n",
    "    return average_identity, std_deviation, identity, scores"
   ]
  },
  {
   "cell_type": "code",
   "execution_count": null,
   "id": "a6c777e2",
   "metadata": {},
   "outputs": [],
   "source": [
    "average_identity, std_deviation , identity , scores = calculate_pairwise_identities(sequence.reset_index(drop=True))\n",
    "print(f\"Average Pairwise Sequence Identity: {average_identity:.4f}\")\n",
    "print(f\"Standard Deviation: {std_deviation:.4f}\")\n"
   ]
  }
 ],
 "metadata": {
  "kernelspec": {
   "display_name": "Python 3 (ipykernel)",
   "language": "python",
   "name": "python3"
  },
  "language_info": {
   "codemirror_mode": {
    "name": "ipython",
    "version": 3
   },
   "file_extension": ".py",
   "mimetype": "text/x-python",
   "name": "python",
   "nbconvert_exporter": "python",
   "pygments_lexer": "ipython3",
   "version": "3.12.7"
  }
 },
 "nbformat": 4,
 "nbformat_minor": 5
}
