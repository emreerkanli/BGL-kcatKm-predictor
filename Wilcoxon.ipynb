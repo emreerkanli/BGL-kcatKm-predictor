{
 "cells": [
  {
   "cell_type": "code",
   "execution_count": 1,
   "id": "fbceb95f",
   "metadata": {},
   "outputs": [],
   "source": [
    "import pandas as pd\n",
    "import numpy as np\n",
    "from scipy.stats import wilcoxon"
   ]
  },
  {
   "cell_type": "code",
   "execution_count": 2,
   "id": "57cb7179",
   "metadata": {},
   "outputs": [],
   "source": [
    "names = ['Trial 1','Trial 2','Trial 3','Trial 4','Trial 5','Trial 6','Trial 7','Trial 8','Trial 9','Trial 10']\n",
    "\n",
    "dfModels_Activity = pd.read_excel('20241119 kcatKm prediction based on Temperature Profiles betaGlucosidase - Comparing with Simple Guessing.xlsx', sheet_name =names)"
   ]
  },
  {
   "cell_type": "raw",
   "id": "4304785f",
   "metadata": {},
   "source": [
    "def wilconxon_analyze(dfModels):\n",
    "\n",
    "    df = pd.concat(dfModels).droplevel(1).rename_axis('Trials').reset_index()\n",
    "    df = df.rename(columns={'Unnamed: 0': 'Identity'})\n",
    "    \n",
    "    model_names = df.columns[3:-3]\n",
    "    identity_ranges = df['Identity'].unique()\n",
    "    \n",
    "    list_results = []\n",
    "\n",
    "    for model in model_names:\n",
    "        for identity in identity_ranges:\n",
    "            simple_guessing = np.array(df[df['Identity']==identity]['Simple Guessing'])\n",
    "            model_results = np.array(df[df['Identity']==identity][model])\n",
    "            \n",
    "            simple_guessing = simple_guessing[~np.isnan(simple_guessing)]\n",
    "            model_results = model_results[~np.isnan(model_results)]\n",
    "            \n",
    "            p_value = wilcoxon(simple_guessing, model_results, alternative='two-sided')[1]\n",
    "            list_results.append(p_value)\n",
    "            \n",
    "    p_value_array = np.reshape(list_results, (len(model_names),len(identity_ranges)))\n",
    "    df_pValue = pd.DataFrame(p_value_array, index=model_names, columns=identity_ranges).transpose()\n",
    "    \n",
    "    return(df_pValue)"
   ]
  },
  {
   "cell_type": "code",
   "execution_count": 3,
   "id": "56948abb",
   "metadata": {},
   "outputs": [],
   "source": [
    "def wilconxon_analyze(dfModels):\n",
    "    df = pd.concat(dfModels_Activity ).droplevel(1).rename_axis('Trials').reset_index()\n",
    "    df = df.rename(columns={'Unnamed: 0': 'Identity'})\n",
    "    model_names = df.columns[4:]\n",
    "\n",
    "    list_results = []\n",
    "\n",
    "    for model in model_names:\n",
    "\n",
    "        simple_guessing = np.array(df['Average'])\n",
    "        model_results = np.array(df[model])\n",
    "\n",
    "        p_value = wilcoxon(simple_guessing, model_results, alternative='two-sided')[1]\n",
    "        list_results.append(p_value)\n",
    "\n",
    "    p_value_array = np.reshape(list_results, (len(model_names),-1))\n",
    "    df_pValue = pd.DataFrame(p_value_array, index=model_names).transpose()\n",
    "\n",
    "    return(df_pValue)"
   ]
  },
  {
   "cell_type": "code",
   "execution_count": 4,
   "id": "6cb4a6ae",
   "metadata": {},
   "outputs": [],
   "source": [
    "df_pValue_Activity = wilconxon_analyze(dfModels_Activity)\n",
    "df_pValue_Activity.to_excel('20241119 Predicting kcatKm singleLayer p-values based on simple guessing.xlsx')"
   ]
  },
  {
   "cell_type": "code",
   "execution_count": null,
   "id": "fe42495d",
   "metadata": {},
   "outputs": [],
   "source": [
    "model"
   ]
  },
  {
   "cell_type": "code",
   "execution_count": null,
   "id": "ee571e20",
   "metadata": {},
   "outputs": [],
   "source": [
    "dfModels_Temperature = pd.read_excel('20240823 Predicting Optimum Temperature betaGlucosidase - Comparing with Simple Guessing.xlsx', sheet_name =names)"
   ]
  },
  {
   "cell_type": "code",
   "execution_count": null,
   "id": "94d65e51",
   "metadata": {},
   "outputs": [],
   "source": [
    "df_pValue_Temperature = wilconxon_analyze(dfModels_Temperature)\n",
    "df_pValue_Temperature.to_excel('20240826 Predicting Optimum Temperature p-values based on simple guessing.xlsx')"
   ]
  },
  {
   "cell_type": "code",
   "execution_count": null,
   "id": "395c2b2f",
   "metadata": {},
   "outputs": [],
   "source": []
  }
 ],
 "metadata": {
  "kernelspec": {
   "display_name": "Python 3 (ipykernel)",
   "language": "python",
   "name": "python3"
  },
  "language_info": {
   "codemirror_mode": {
    "name": "ipython",
    "version": 3
   },
   "file_extension": ".py",
   "mimetype": "text/x-python",
   "name": "python",
   "nbconvert_exporter": "python",
   "pygments_lexer": "ipython3",
   "version": "3.8.19"
  }
 },
 "nbformat": 4,
 "nbformat_minor": 5
}
