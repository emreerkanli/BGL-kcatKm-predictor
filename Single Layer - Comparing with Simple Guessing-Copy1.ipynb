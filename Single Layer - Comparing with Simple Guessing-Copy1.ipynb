{
 "cells": [
  {
   "cell_type": "code",
   "execution_count": 1,
   "id": "1a2d05dd",
   "metadata": {},
   "outputs": [],
   "source": [
    "import numpy as np\n",
    "import pandas as pd\n",
    "\n",
    "from sklearn.metrics import r2_score"
   ]
  },
  {
   "cell_type": "code",
   "execution_count": 2,
   "id": "668807b9",
   "metadata": {},
   "outputs": [],
   "source": [
    "names = ['Trial 1','Trial 2','Trial 3','Trial 4','Trial 5', 'Trial 6','Trial 7','Trial 8','Trial 9','Trial 10']\n",
    "\n",
    "dfR2mean3 = pd.read_excel('20241118kcatKm_predictionBasedOnTemperatureProfiles_betaGlucosidase_y_valSimple Guessing.xlsx', index_col =0,\n",
    "                          sheet_name =names)\n",
    "dfModels = pd.read_excel('20240912 single layer model based on Temperature Profiles betaGlucosidase - y_val values.xlsx', index_col = 0, sheet_name =names)"
   ]
  },
  {
   "cell_type": "code",
   "execution_count": 3,
   "id": "7a2941b3",
   "metadata": {},
   "outputs": [],
   "source": [
    "list_merged_results = []\n",
    "\n",
    "for name in names:\n",
    "#     dfModels[name].insert(loc=0, column='Simple Guessing', value=dfR2mean3[name]['Average'].values)\n",
    "    merged = dfR2mean3[name].merge(dfModels[name], left_index=True, right_index=True, how='inner')\n",
    "    list_merged_results.append(merged)"
   ]
  },
  {
   "cell_type": "raw",
   "id": "930059c0",
   "metadata": {},
   "source": [
    "def analyze_results(summary):\n",
    "    \n",
    "    identity_less100 = summary[summary['Sequence Identity'] < 1] \n",
    "    identity_80 = summary[(summary['Sequence Identity'] < 0.9999) & (summary['Sequence Identity'] > 0.8)]\n",
    "    identity_0 = summary[summary['Sequence Identity'] < 0.7999]\n",
    "    identity_80_99 = summary[(summary['Sequence Identity'] <= 0.99) & (summary['Sequence Identity'] > 0.8)]\n",
    "    identity_99 = summary[summary['Sequence Identity'] > 0.99] \n",
    "\n",
    "\n",
    "\n",
    "    identity_less100_w = summary[(summary['Sequence Identity'] < 1) & (summary['wild type or mutant'] == 'wild')] \n",
    "    identity_80_w = summary[(summary['Sequence Identity'] < 0.9999) & (summary['Sequence Identity'] > 0.8) &\n",
    "                                                               (summary['wild type or mutant'] == 'wild')]\n",
    "    identity_0_w = summary[(summary['Sequence Identity'] < 0.7999) & (summary['wild type or mutant'] == 'wild')]\n",
    "    identity_80_99_w = summary[(summary['Sequence Identity'] <= 0.99) & (summary['Sequence Identity'] > 0.8) &\n",
    "                                                                      (summary['wild type or mutant'] == 'wild')]\n",
    "    identity_99_w = summary[(summary['Sequence Identity'] > 0.99) & (summary['wild type or mutant'] == 'wild')]  \n",
    "\n",
    "\n",
    "    identity_less100_m = summary[(summary['Sequence Identity'] < 1) & (summary['wild type or mutant'] == 'mutant')] \n",
    "    identity_80_m = summary[(summary['Sequence Identity'] < 0.9999) & (summary['Sequence Identity'] > 0.8) &\n",
    "                                                                    (summary['wild type or mutant'] == 'mutant')]\n",
    "#    identity_0_m = summary[(summary['Sequence Identity'] < 0.7999) & (summary['wild type or mutant'] == 'mutant')]\n",
    "#   identity_80_99_m = summary[(summary['Sequence Identity'] <= 0.99) & (summary['Sequence Identity'] > 0.8) &\n",
    "#                                                                      (summary['wild type or mutant'] == 'mutant')]\n",
    "    identity_99_m = summary[(summary['Sequence Identity'] > 0.99) & (summary['wild type or mutant'] == 'mutant')]  \n",
    "\n",
    "\n",
    "\n",
    "\n",
    "    matrix = [identity_less100, identity_80 ,identity_0 ,identity_80_99, identity_99 ,\n",
    "              identity_less100_w, identity_80_w, identity_0_w, identity_80_99_w , identity_99_w,\n",
    "              identity_less100_m,identity_80_m,identity_99_m]\n",
    "    list_R2=[]\n",
    "\n",
    "    for identity in matrix:\n",
    "        for model in summary.columns[:-1]:\n",
    "            r2=r2_score(identity['y_val_x'], identity[model])\n",
    "            list_R2.append(r2)\n",
    "\n",
    "\n",
    "\n",
    "    x = np.reshape(list_R2, (len(matrix), len(summary.columns[:-1])))\n",
    "\n",
    "    number_of_data = [len(a) for a in matrix]\n",
    "\n",
    "    Results=pd.DataFrame(x, columns=summary.columns[:-1], index = ['<100%', '80-99.99%', '0-79.99%', '80-99%', '>99%',\n",
    "                                                              '<100% wild type','80-99.99% wild type', '0-79.99% wild type', '80-99% wild type', '>99% wild type',\n",
    "                                                              '<100% mutant type','80-99.99% mutant type', '>99% mutant type'])\n",
    "    Results['Number of Data'] = number_of_data\n",
    "\n",
    "    return Results"
   ]
  },
  {
   "cell_type": "code",
   "execution_count": 4,
   "id": "2129924d",
   "metadata": {},
   "outputs": [],
   "source": [
    "def analyze_results(summary):\n",
    "    \n",
    "    list_R2 =[]\n",
    "    for model in summary.columns[:-1]:\n",
    "        r2=r2_score(summary['y_val_x'], summary[model])\n",
    "        list_R2.append(r2)\n",
    "\n",
    "\n",
    "\n",
    "    x = np.reshape(list_R2, (-1, len(summary.columns[:-1])))\n",
    "\n",
    "\n",
    "    Results=pd.DataFrame(x, columns=summary.columns[:-1], index = ['<100%'])\n",
    "    \n",
    "    return Results"
   ]
  },
  {
   "cell_type": "code",
   "execution_count": 5,
   "id": "aa2eec97",
   "metadata": {},
   "outputs": [],
   "source": [
    "list_Results = []\n",
    "\n",
    "for trial in list_merged_results:\n",
    "    dfR = analyze_results(trial)\n",
    "    list_Results.append(dfR)"
   ]
  },
  {
   "cell_type": "code",
   "execution_count": 6,
   "id": "cafbfde4",
   "metadata": {},
   "outputs": [],
   "source": [
    "df_average = pd.concat([list_Results[0],list_Results[1],list_Results[2],list_Results[3], list_Results[4],\n",
    "                        list_Results[5],list_Results[6],list_Results[7],list_Results[8], list_Results[9]])\n",
    "\n",
    "average = df_average.groupby(level=0, sort=False).mean()\n",
    "std = df_average.groupby(level=0, sort=False).std()\n",
    "list_Results.append(average)\n",
    "list_Results.append(std)"
   ]
  },
  {
   "cell_type": "code",
   "execution_count": 7,
   "id": "34731d5a",
   "metadata": {},
   "outputs": [],
   "source": [
    "names = ['Trial 1','Trial 2','Trial 3','Trial 4','Trial 5', 'Trial 6','Trial 7','Trial 8','Trial 9','Trial 10', \"Average\", \"STD\"]\n",
    "writer=pd.ExcelWriter(r\"C:\\Users\\memre\\Desktop\\Research\\Predicting Enzyme Properties Based on Various Organisms\\Code\\Temperature Profile Prediction\\20241119 kcatKm prediction based on Temperature Profiles betaGlucosidase - Comparing with Simple Guessing.xlsx\")\n",
    "_ = [A.to_excel(writer,sheet_name=\"{0}\".format(names[i])) for i, A in enumerate(list_Results)]\n",
    "writer.close()"
   ]
  },
  {
   "cell_type": "code",
   "execution_count": null,
   "id": "0f12eb76",
   "metadata": {},
   "outputs": [],
   "source": []
  }
 ],
 "metadata": {
  "kernelspec": {
   "display_name": "Python 3 (ipykernel)",
   "language": "python",
   "name": "python3"
  },
  "language_info": {
   "codemirror_mode": {
    "name": "ipython",
    "version": 3
   },
   "file_extension": ".py",
   "mimetype": "text/x-python",
   "name": "python",
   "nbconvert_exporter": "python",
   "pygments_lexer": "ipython3",
   "version": "3.8.19"
  }
 },
 "nbformat": 4,
 "nbformat_minor": 5
}
