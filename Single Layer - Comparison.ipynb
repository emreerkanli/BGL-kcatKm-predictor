{
 "cells": [
  {
   "cell_type": "code",
   "execution_count": null,
   "id": "1a2d05dd",
   "metadata": {},
   "outputs": [],
   "source": [
    "import numpy as np\n",
    "import pandas as pd\n",
    "\n",
    "from sklearn.metrics import r2_score"
   ]
  },
  {
   "cell_type": "code",
   "execution_count": null,
   "id": "668807b9",
   "metadata": {},
   "outputs": [],
   "source": [
    "names = ['Trial 1','Trial 2','Trial 3','Trial 4','Trial 5', 'Trial 6','Trial 7','Trial 8','Trial 9','Trial 10']\n",
    "\n",
    "dfR2mean3 = pd.read_excel('20241118kcatKm_predictionBasedOnTemperatureProfiles_betaGlucosidase_y_valSimple Guessing.xlsx', index_col =0,\n",
    "                          sheet_name =names)\n",
    "dfModels = pd.read_excel('20240912 single layer model based on Temperature Profiles betaGlucosidase - y_val values.xlsx', index_col = 0, sheet_name =names)"
   ]
  },
  {
   "cell_type": "code",
   "execution_count": null,
   "id": "7a2941b3",
   "metadata": {},
   "outputs": [],
   "source": [
    "list_merged_results = []\n",
    "\n",
    "for name in names:\n",
    "#     dfModels[name].insert(loc=0, column='Simple Guessing', value=dfR2mean3[name]['Average'].values)\n",
    "    merged = dfR2mean3[name].merge(dfModels[name], left_index=True, right_index=True, how='inner')\n",
    "    list_merged_results.append(merged)"
   ]
  },
  {
   "cell_type": "code",
   "execution_count": null,
   "id": "2129924d",
   "metadata": {},
   "outputs": [],
   "source": [
    "def analyze_results(summary):\n",
    "    \n",
    "    list_R2 =[]\n",
    "    for model in summary.columns[:-1]:\n",
    "        r2=r2_score(summary['y_val_x'], summary[model])\n",
    "        list_R2.append(r2)\n",
    "\n",
    "\n",
    "\n",
    "    x = np.reshape(list_R2, (-1, len(summary.columns[:-1])))\n",
    "\n",
    "\n",
    "    Results=pd.DataFrame(x, columns=summary.columns[:-1], index = ['<100%'])\n",
    "    \n",
    "    return Results"
   ]
  },
  {
   "cell_type": "code",
   "execution_count": null,
   "id": "aa2eec97",
   "metadata": {},
   "outputs": [],
   "source": [
    "list_Results = []\n",
    "\n",
    "for trial in list_merged_results:\n",
    "    dfR = analyze_results(trial)\n",
    "    list_Results.append(dfR)"
   ]
  },
  {
   "cell_type": "code",
   "execution_count": null,
   "id": "cafbfde4",
   "metadata": {},
   "outputs": [],
   "source": [
    "df_average = pd.concat([list_Results[0],list_Results[1],list_Results[2],list_Results[3], list_Results[4],\n",
    "                        list_Results[5],list_Results[6],list_Results[7],list_Results[8], list_Results[9]])\n",
    "\n",
    "average = df_average.groupby(level=0, sort=False).mean()\n",
    "std = df_average.groupby(level=0, sort=False).std()\n",
    "list_Results.append(average)\n",
    "list_Results.append(std)"
   ]
  },
  {
   "cell_type": "code",
   "execution_count": null,
   "id": "0f12eb76",
   "metadata": {},
   "outputs": [],
   "source": []
  }
 ],
 "metadata": {
  "kernelspec": {
   "display_name": "Python 3 (ipykernel)",
   "language": "python",
   "name": "python3"
  },
  "language_info": {
   "codemirror_mode": {
    "name": "ipython",
    "version": 3
   },
   "file_extension": ".py",
   "mimetype": "text/x-python",
   "name": "python",
   "nbconvert_exporter": "python",
   "pygments_lexer": "ipython3",
   "version": "3.12.7"
  }
 },
 "nbformat": 4,
 "nbformat_minor": 5
}
